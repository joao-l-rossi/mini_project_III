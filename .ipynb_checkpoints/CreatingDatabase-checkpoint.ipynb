{
 "cells": [
  {
   "cell_type": "code",
   "execution_count": 1,
   "id": "f67da347-0190-4e5f-bcd5-5e6f6f1077fc",
   "metadata": {},
   "outputs": [],
   "source": [
    "import pandas as pd\n",
    "import sqlite3\n",
    "from sqlite3 import Error\n",
    "import datetime as dt"
   ]
  },
  {
   "cell_type": "code",
   "execution_count": 2,
   "id": "adb9c1f6-4fac-46aa-9710-f8fa3d46da79",
   "metadata": {},
   "outputs": [],
   "source": [
    "def create_connection(path):\n",
    "    connection = None\n",
    "    try:\n",
    "        connection = sqlite3.connect(path)\n",
    "        print(\"Connection to SQLite DB successful\")\n",
    "    except Error as e:\n",
    "        print(f\"The error '{e}' occurred\")\n",
    "\n",
    "    return connection\n",
    "    \n",
    "def convert_date(data_in, column_names, format_in = '%d.%m.%Y'):\n",
    "    for column in column_names:\n",
    "        updated_column = [dt.datetime.strptime(x,format_in).date() if not pd.isnull(x) else None for x in data_in[column] ]\n",
    "        data_in[column] = updated_column\n",
    "        #print(f\"minimum date of {column} = {sorted(updated_column, key=lambda x: (x is None, x))[0]}\")\n",
    "        #print(f\"maximun date of {column} = {sorted(updated_column, key=lambda x: (x, x is None))[-1]}\")\n",
    "    return data_in\n",
    "\n",
    "def difference_maker(df,col1,col2 ):\n",
    "    ''' input strings of columns and dataframe, Returns a dataframe with the column name of choice '''\n",
    "    df['balance_difference'] = df[col1] - df[col2]\n",
    "    return df\n",
    "\n",
    "def remove_spaces(df, col1):\n",
    "    ''' input dataframe, column of interest. Return column with no spaces'''\n",
    "    try:\n",
    "        df[col1] = df[col1].str.strip()\n",
    "    except:\n",
    "        df[col1] = df[col1].replace(\" \",\"\")\n",
    "    return df[col1]\n",
    "\n",
    "def combine_strings(df,col1,col2,name_of_new_column):\n",
    "    '''Input dataframe, then strings of columns to combine in the order you want then input name of new column'''\n",
    "    df[name_of_new_column] = df[col1].astype(str) + ' ' + df[col2]\n",
    "    return df\n",
    "\n",
    "def print_info(df):\n",
    "    print(\"============================================\")\n",
    "    print(\"Missing Values\")\n",
    "    print(df.isnull().sum())\n",
    "    print(\"============================================\")\n",
    "    print(\"Describe\")\n",
    "    print(df.describe())\n",
    "    print(\"============================================\")\n",
    "    print(\"Shape\")\n",
    "    print(df.shape)\n",
    "    print(df.head(5))\n"
   ]
  },
  {
   "cell_type": "markdown",
   "id": "433d9f17-595d-4eb2-8925-ed6069256f17",
   "metadata": {},
   "source": [
    "# twm_accounts"
   ]
  },
  {
   "cell_type": "code",
   "execution_count": 3,
   "id": "b77d355b-fa21-47c7-b52a-d11dee8e90af",
   "metadata": {},
   "outputs": [
    {
     "name": "stdout",
     "output_type": "stream",
     "text": [
      "============================================\n",
      "Missing Values\n",
      "acct_nbr               0\n",
      "cust_id                0\n",
      "acct_type              0\n",
      "account_active         0\n",
      "acct_start_date        0\n",
      "acct_end_date       1266\n",
      "starting_balance       0\n",
      "ending_balance         0\n",
      "dtype: int64\n",
      "============================================\n",
      "Describe\n",
      "           acct_nbr       cust_id  starting_balance  ending_balance\n",
      "count  1.409000e+03  1.409000e+03        1409.00000     1409.000000\n",
      "mean   1.514986e+15  1.362989e+06        1435.35357     1011.754336\n",
      "std    2.148991e+15  2.940584e+02        2186.69662     1559.986310\n",
      "min    1.362480e+07  1.362480e+06           0.00000        0.000000\n",
      "25%    1.362852e+07  1.362727e+06         189.23000      140.000000\n",
      "50%    1.363252e+07  1.362985e+06         487.69000      553.610000\n",
      "75%    4.561143e+15  1.363251e+06        2178.79000     1188.570000\n",
      "max    4.561143e+15  1.363495e+06       27072.38000    22432.780000\n",
      "============================================\n",
      "Shape\n",
      "(1409, 8)\n",
      "           acct_nbr  cust_id acct_type account_active acct_start_date  \\\n",
      "0          13628063  1362806      SV               Y       10.12.1995   \n",
      "1  4561143213627090  1362709      CC               Y        15.3.1993   \n",
      "2  4561143213628360  1362836      CC               Y        18.3.1992   \n",
      "3          13633112  1363311      CK               Y         6.7.1995   \n",
      "4  4561143213633610  1363361      CC               Y        17.6.1994   \n",
      "\n",
      "  acct_end_date  starting_balance  ending_balance  \n",
      "0           NaN           1430.22          284.58  \n",
      "1           NaN            266.34          496.15  \n",
      "2           NaN             55.90         1000.00  \n",
      "3           NaN          11017.13          968.46  \n",
      "4           NaN            849.37          462.28  \n"
     ]
    }
   ],
   "source": [
    "accounts = pd.read_csv(\"twm_accounts.csv\", sep = \";\")\n",
    "print_info(accounts)"
   ]
  },
  {
   "cell_type": "code",
   "execution_count": 4,
   "id": "534ae18d-6d23-4bdf-b56b-8d973a6039c7",
   "metadata": {},
   "outputs": [],
   "source": [
    "accounts = convert_date(accounts, [\"acct_start_date\",\"acct_end_date\"])\n",
    "accounts = difference_maker(accounts, \"ending_balance\", \"starting_balance\")"
   ]
  },
  {
   "cell_type": "code",
   "execution_count": 5,
   "id": "8d2c8619-bd81-49f9-9a51-ebf53b9cd8a1",
   "metadata": {},
   "outputs": [
    {
     "name": "stdout",
     "output_type": "stream",
     "text": [
      "Connection to SQLite DB successful\n"
     ]
    }
   ],
   "source": [
    "# creating the database\n",
    "connection = create_connection(\"twm_banking.sqlite\")  "
   ]
  },
  {
   "cell_type": "code",
   "execution_count": 6,
   "id": "5d34ef81-ad9f-4290-9d4b-fbce51d8c7e2",
   "metadata": {},
   "outputs": [],
   "source": [
    "accounts.to_sql(\"accounts\", connection, if_exists = \"replace\")"
   ]
  },
  {
   "cell_type": "markdown",
   "id": "43e10ffb-eb69-467f-9019-c6482d22646a",
   "metadata": {},
   "source": [
    "# twm_checking_acct"
   ]
  },
  {
   "cell_type": "code",
   "execution_count": 7,
   "id": "67bef324-2708-4483-86c3-af00733a213f",
   "metadata": {},
   "outputs": [
    {
     "name": "stdout",
     "output_type": "stream",
     "text": [
      "============================================\n",
      "Missing Values\n",
      "cust_id               0\n",
      "acct_nbr              0\n",
      "minimum_balance       0\n",
      "per_check_fee         0\n",
      "account_active        0\n",
      "acct_start_date       0\n",
      "acct_end_date       468\n",
      "starting_balance      0\n",
      "ending_balance        0\n",
      "dtype: int64\n",
      "============================================\n",
      "Describe\n",
      "            cust_id      acct_nbr  minimum_balance  per_check_fee  \\\n",
      "count  5.200000e+02  5.200000e+02       520.000000     520.000000   \n",
      "mean   1.362992e+06  1.362993e+07      1355.384615       0.086250   \n",
      "std    2.954516e+02  2.954516e+03      1415.769243       0.074223   \n",
      "min    1.362480e+06  1.362480e+07       100.000000       0.000000   \n",
      "25%    1.362735e+06  1.362735e+07       100.000000       0.000000   \n",
      "50%    1.362992e+06  1.362993e+07       200.000000       0.150000   \n",
      "75%    1.363252e+06  1.363252e+07      3000.000000       0.150000   \n",
      "max    1.363495e+06  1.363495e+07      3000.000000       0.150000   \n",
      "\n",
      "       starting_balance  ending_balance  \n",
      "count        520.000000      520.000000  \n",
      "mean        2170.671154      656.522692  \n",
      "std         2706.952110     1145.049961  \n",
      "min          100.280000        0.000000  \n",
      "25%          261.825000       46.232500  \n",
      "50%         1056.145000      246.345000  \n",
      "75%         2804.915000      821.402500  \n",
      "max        27072.380000    13185.470000  \n",
      "============================================\n",
      "Shape\n",
      "(520, 9)\n",
      "   cust_id  acct_nbr  minimum_balance  per_check_fee account_active  \\\n",
      "0  1362548  13625482             3000           0.00             Y    \n",
      "1  1362487  13624872             3000           0.00             Y    \n",
      "2  1363017  13630172             3000           0.00             Y    \n",
      "3  1362752  13627522              100           0.15             Y    \n",
      "4  1363282  13632822              100           0.15             Y    \n",
      "\n",
      "  acct_start_date acct_end_date  starting_balance  ending_balance  \n",
      "0      11.11.1986           NaN           6004.34          569.65  \n",
      "1       12.1.1995           NaN           2781.07         1401.21  \n",
      "2       19.3.1994           NaN           2694.91          147.15  \n",
      "3        8.1.1994           NaN            487.69            3.76  \n",
      "4        5.3.1988           NaN            133.90           84.18  \n"
     ]
    }
   ],
   "source": [
    "checking_acct = pd.read_csv(\"twm_checking_acct.csv\", sep = \";\")\n",
    "print_info(checking_acct)"
   ]
  },
  {
   "cell_type": "code",
   "execution_count": 8,
   "id": "f14744b3-bd11-4d96-b6f9-58beb72f3cfc",
   "metadata": {},
   "outputs": [],
   "source": [
    "checking_acct = convert_date(checking_acct, [\"acct_start_date\",\"acct_end_date\"])\n",
    "checking_acct = difference_maker(checking_acct, \"ending_balance\", \"starting_balance\")\n",
    "checking_acct.to_sql(\"checking_acct\", connection, if_exists = \"replace\")"
   ]
  },
  {
   "cell_type": "markdown",
   "id": "4c93480f-b7f4-496e-ba03-76e9d19709f8",
   "metadata": {},
   "source": [
    "# checking_tran"
   ]
  },
  {
   "cell_type": "code",
   "execution_count": 9,
   "id": "2b745fb0-ca67-445a-8877-75bebec11063",
   "metadata": {},
   "outputs": [
    {
     "name": "stdout",
     "output_type": "stream",
     "text": [
      "============================================\n",
      "Missing Values\n",
      "cust_id          0\n",
      "tran_id          0\n",
      "tran_amt         0\n",
      "principal_amt    0\n",
      "interest_amt     0\n",
      "new_balance      0\n",
      "tran_date        0\n",
      "tran_time        0\n",
      "channel          0\n",
      "tran_code        0\n",
      "dtype: int64\n",
      "============================================\n",
      "Describe\n",
      "            cust_id       tran_id      tran_amt  principal_amt  interest_amt  \\\n",
      "count  4.620400e+04  46204.000000  46204.000000   46204.000000  46204.000000   \n",
      "mean   1.362998e+06     47.823175    -17.039341     -17.155132      0.115790   \n",
      "std    2.957497e+02     28.457501    246.405359     246.395847      0.845523   \n",
      "min    1.362480e+06      1.000000  -3312.410000   -3312.410000      0.000000   \n",
      "25%    1.362740e+06     23.000000    -80.000000     -80.000000      0.000000   \n",
      "50%    1.362997e+06     47.000000     -0.750000      -0.750000      0.000000   \n",
      "75%    1.363262e+06     72.000000      0.000000       0.000000      0.000000   \n",
      "max    1.363495e+06     99.000000   5355.050000    5355.050000     27.300000   \n",
      "\n",
      "        new_balance  \n",
      "count  46204.000000  \n",
      "mean    1152.162744  \n",
      "std     2009.266714  \n",
      "min        0.000000  \n",
      "25%       78.440000  \n",
      "50%      407.490000  \n",
      "75%     1522.675000  \n",
      "max    29868.390000  \n",
      "============================================\n",
      "Shape\n",
      "(46204, 10)\n",
      "   cust_id  tran_id  tran_amt  principal_amt  interest_amt  new_balance  \\\n",
      "0  1363481       26     -0.15          -0.15           0.0        58.99   \n",
      "1  1362784       90   -200.00        -200.00           0.0      1380.69   \n",
      "2  1363088       46      0.00           0.00           0.0       128.35   \n",
      "3  1363306       32    -40.32         -40.32           0.0       433.06   \n",
      "4  1363251       11    -87.88         -87.88           0.0      1919.55   \n",
      "\n",
      "   tran_date     tran_time channel tran_code  \n",
      "0  29.1.1995                            FK    \n",
      "1   2.7.1995         53313      A       WD    \n",
      "2  26.3.1995           834      A       IQ    \n",
      "3  29.1.1995                    P       WD    \n",
      "4   8.2.1995                    P       WD    \n"
     ]
    }
   ],
   "source": [
    "checking_tran = pd.read_csv(\"twm_checking_tran.csv\", sep = \";\")\n",
    "print_info(checking_tran)"
   ]
  },
  {
   "cell_type": "code",
   "execution_count": 10,
   "id": "06107fc3-5255-404b-be9e-168edd3de2a3",
   "metadata": {},
   "outputs": [],
   "source": [
    "checking_tran = convert_date(checking_tran, [\"tran_date\"])\n",
    "checking_tran.to_sql(\"checking_tran\", connection, if_exists = \"replace\")"
   ]
  },
  {
   "cell_type": "markdown",
   "id": "d160b6cf-9550-4574-bb09-b0d074952dad",
   "metadata": {},
   "source": [
    "# credit_acct"
   ]
  },
  {
   "cell_type": "code",
   "execution_count": 11,
   "id": "0c699ba3-dd68-46c9-957f-f469a3e70853",
   "metadata": {},
   "outputs": [
    {
     "name": "stdout",
     "output_type": "stream",
     "text": [
      "============================================\n",
      "Missing Values\n",
      "cust_id               0\n",
      "acct_nbr              0\n",
      "credit_limit          0\n",
      "credit_rating         0\n",
      "account_active        0\n",
      "acct_start_date       0\n",
      "acct_end_date       423\n",
      "starting_balance      0\n",
      "ending_balance        0\n",
      "dtype: int64\n",
      "============================================\n",
      "Describe\n",
      "            cust_id      acct_nbr  credit_limit  credit_rating  \\\n",
      "count  4.680000e+02  4.680000e+02    468.000000     468.000000   \n",
      "mean   1.362986e+06  4.561143e+15   2647.649573       0.316239   \n",
      "std    2.920717e+02  2.920717e+03   2293.771202       1.453930   \n",
      "min    1.362480e+06  4.561143e+15   1000.000000       0.000000   \n",
      "25%    1.362727e+06  4.561143e+15   1000.000000       0.000000   \n",
      "50%    1.362974e+06  4.561143e+15   1900.000000       0.000000   \n",
      "75%    1.363238e+06  4.561143e+15   3000.000000       0.000000   \n",
      "max    1.363493e+06  4.561143e+15  17300.000000      10.000000   \n",
      "\n",
      "       starting_balance  ending_balance  \n",
      "count        468.000000      468.000000  \n",
      "mean        1123.257521     1184.885662  \n",
      "std         1636.254478     1363.065314  \n",
      "min            0.000000        0.000000  \n",
      "25%            0.000000      353.187500  \n",
      "50%          568.300000     1000.000000  \n",
      "75%         1631.635000     1358.717500  \n",
      "max        11394.660000     9500.000000  \n",
      "============================================\n",
      "Shape\n",
      "(468, 9)\n",
      "   cust_id          acct_nbr  credit_limit  credit_rating account_active  \\\n",
      "0  1363160  4561143213631600          1000              0             Y    \n",
      "1  1362487  4561143213624870          3000              0             Y    \n",
      "2  1362548  4561143213625480          6700              0             Y    \n",
      "3  1362752  4561143213627520          2400              0             N    \n",
      "4  1363017  4561143213630170          1000              0             Y    \n",
      "\n",
      "  acct_start_date acct_end_date  starting_balance  ending_balance  \n",
      "0      12.10.1988           NaN            657.46          286.69  \n",
      "1        8.8.1995           NaN              0.00         1548.23  \n",
      "2      11.11.1986           NaN           6965.25           68.68  \n",
      "3       9.10.1994      2.4.1995           2302.14            0.00  \n",
      "4        8.2.1995           NaN              0.00         1000.00  \n"
     ]
    }
   ],
   "source": [
    "credit_acct = pd.read_csv(\"twm_credit_acct.csv\", sep = \";\")\n",
    "print_info(credit_acct)"
   ]
  },
  {
   "cell_type": "code",
   "execution_count": 12,
   "id": "142d0677-e367-4d34-bfb1-efd6b5e3128d",
   "metadata": {},
   "outputs": [],
   "source": [
    "credit_acct = convert_date(credit_acct, [\"acct_start_date\",\"acct_end_date\"])\n",
    "credit_acct = difference_maker(credit_acct, \"ending_balance\", \"starting_balance\")\n",
    "credit_acct.to_sql(\"credit_acct\", connection, if_exists = \"replace\")"
   ]
  },
  {
   "cell_type": "markdown",
   "id": "f8f7696f-3a60-4d39-8220-a587a01e7778",
   "metadata": {},
   "source": [
    "# credit_tran"
   ]
  },
  {
   "cell_type": "code",
   "execution_count": 13,
   "id": "57a9f31a-b7b8-4797-90fd-7ca6d66ca129",
   "metadata": {},
   "outputs": [
    {
     "name": "stdout",
     "output_type": "stream",
     "text": [
      "============================================\n",
      "Missing Values\n",
      "cust_id          0\n",
      "tran_id          0\n",
      "tran_amt         0\n",
      "principal_amt    0\n",
      "interest_amt     0\n",
      "new_balance      0\n",
      "tran_date        0\n",
      "tran_time        0\n",
      "channel          0\n",
      "tran_code        0\n",
      "dtype: int64\n",
      "============================================\n",
      "Describe\n",
      "            cust_id       tran_id      tran_amt  principal_amt  interest_amt  \\\n",
      "count  2.016700e+04  20167.000000  20167.000000   20167.000000  20167.000000   \n",
      "mean   1.362987e+06     28.543065      0.773537      -1.429786      2.208701   \n",
      "std    2.934641e+02     21.946014    455.914969     451.535918      8.135091   \n",
      "min    1.362480e+06      1.000000  -1565.500000   -1565.500000      0.000000   \n",
      "25%    1.362730e+06     12.000000   -166.790000    -166.790000      0.000000   \n",
      "50%    1.362980e+06     24.000000    -67.510000     -67.510000      0.000000   \n",
      "75%    1.363249e+06     40.000000      0.000000       0.000000      0.000000   \n",
      "max    1.363492e+06    155.000000  17464.520000   17300.000000    164.520000   \n",
      "\n",
      "        new_balance  \n",
      "count  20167.000000  \n",
      "mean   -1130.349441  \n",
      "std     1377.689559  \n",
      "min   -17300.000000  \n",
      "25%    -1411.110000  \n",
      "50%     -766.210000  \n",
      "75%     -334.290000  \n",
      "max        0.000000  \n",
      "============================================\n",
      "Shape\n",
      "(20167, 10)\n",
      "   cust_id  tran_id  tran_amt  principal_amt  interest_amt  new_balance  \\\n",
      "0  1363088       46   -121.49        -121.49           0.0      -141.00   \n",
      "1  1363306       32   -220.64        -220.64           0.0      -520.13   \n",
      "2  1362959       10      0.00           0.00           0.0     -3900.00   \n",
      "3  1363429       13   -195.27        -195.27           0.0     -1739.74   \n",
      "4  1363393       14    -37.32         -37.32           0.0      -198.98   \n",
      "\n",
      "    tran_date tran_time channel tran_code  \n",
      "0  20.10.1995    101144      E       CG    \n",
      "1  13.10.1995     83115      E       CG    \n",
      "2   26.2.1995     84129      K       IQ    \n",
      "3    3.1.1995    191815      E       CG    \n",
      "4    4.7.1995    100811      E       CG    \n"
     ]
    }
   ],
   "source": [
    "credit_tran = pd.read_csv(\"twm_credit_tran.csv\", sep = \";\")\n",
    "print_info(credit_tran)"
   ]
  },
  {
   "cell_type": "code",
   "execution_count": 14,
   "id": "e2fad127-5e98-4821-af07-5e1b1e89053b",
   "metadata": {},
   "outputs": [],
   "source": [
    "credit_tran = convert_date(credit_tran, [\"tran_date\"])\n",
    "credit_tran.to_sql(\"credit_tran\", connection, if_exists = \"replace\")"
   ]
  },
  {
   "cell_type": "markdown",
   "id": "bc487548-73c6-403f-91e3-5809d91c05be",
   "metadata": {},
   "source": [
    "# customers"
   ]
  },
  {
   "cell_type": "code",
   "execution_count": 15,
   "id": "a8fbb4ce-391d-4241-96d2-34f415a835d9",
   "metadata": {},
   "outputs": [
    {
     "name": "stdout",
     "output_type": "stream",
     "text": [
      "============================================\n",
      "Missing Values\n",
      "cust_id            0\n",
      "income             0\n",
      "age                0\n",
      "years_with_bank    0\n",
      "nbr_children       0\n",
      "gender             0\n",
      "marital_status     0\n",
      "name_prefix        0\n",
      "first_name         0\n",
      "last_name          0\n",
      "street_nbr         0\n",
      "street_name        0\n",
      "postal_code        0\n",
      "city_name          0\n",
      "state_code         0\n",
      "full_address       0\n",
      "full_name          0\n",
      "dtype: int64\n",
      "============================================\n",
      "Describe\n",
      "            cust_id         income         age  years_with_bank  nbr_children  \\\n",
      "count  7.470000e+02     747.000000  747.000000       747.000000    747.000000   \n",
      "mean   1.362991e+06   22728.281124   42.479250         3.907631      0.714859   \n",
      "std    2.925255e+02   22207.221405   19.114879         2.675634      1.103410   \n",
      "min    1.362480e+06       0.000000   13.000000         0.000000      0.000000   \n",
      "25%    1.362732e+06    7118.500000   28.000000         2.000000      0.000000   \n",
      "50%    1.362993e+06   17242.000000   42.000000         4.000000      0.000000   \n",
      "75%    1.363244e+06   31338.000000   56.000000         6.000000      1.000000   \n",
      "max    1.363495e+06  144157.000000   89.000000         9.000000      5.000000   \n",
      "\n",
      "       marital_status    street_nbr   postal_code  \n",
      "count      747.000000    747.000000    747.000000  \n",
      "mean         1.882195   8523.109772  59502.690763  \n",
      "std          0.892051   5219.488263  31205.926508  \n",
      "min          1.000000    196.000000   2149.000000  \n",
      "25%          1.000000   4295.500000  33145.000000  \n",
      "50%          2.000000   8001.000000  64132.000000  \n",
      "75%          2.000000  12039.000000  90082.000000  \n",
      "max          4.000000  19940.000000  98186.000000  \n",
      "============================================\n",
      "Shape\n",
      "(747, 17)\n",
      "   cust_id  income  age  years_with_bank  nbr_children gender  marital_status  \\\n",
      "0  1362691   26150   46                5             1     M                2   \n",
      "1  1362487    6605   71                1             0     M                2   \n",
      "2  1363160   18548   38                8             0     F                1   \n",
      "3  1362752   47668   54                3             0     F                1   \n",
      "4  1362548   44554   59                9             2     F                4   \n",
      "\n",
      "  name_prefix first_name last_name  street_nbr street_name  postal_code  \\\n",
      "0                 Donald     Marek        8298      Second        89194   \n",
      "1               ChingDyi  Moussavi       10603    Daffodil        90159   \n",
      "2                   Rosa  Johnston        8817    Figueroa        90024   \n",
      "3                   Lisa    Martin         676      Humble        90172   \n",
      "4                Barbara  O'Malley        6578           C        10138   \n",
      "\n",
      "                                  city_name state_code    full_address  \\\n",
      "0  Las Vegas                                      NV       8298 Second   \n",
      "1  Los Angeles                                    CA    10603 Daffodil   \n",
      "2  Los Angeles                                    CA     8817 Figueroa   \n",
      "3  Los Angeles                                    CA        676 Humble   \n",
      "4  New York City                                  NY            6578 C   \n",
      "\n",
      "           full_name  \n",
      "0       Donald Marek  \n",
      "1  ChingDyi Moussavi  \n",
      "2      Rosa Johnston  \n",
      "3        Lisa Martin  \n",
      "4   Barbara O'Malley  \n"
     ]
    }
   ],
   "source": [
    "customers = pd.read_csv('twm_customer.csv', sep = ';') \n",
    "remove_spaces(customers, 'street_nbr')\n",
    "remove_spaces(customers, 'street_name')\n",
    "remove_spaces(customers, 'last_name')\n",
    "remove_spaces(customers, 'first_name')\n",
    "combine_strings(customers, 'street_nbr', 'street_name','full_address')\n",
    "combine_strings(customers, 'first_name', 'last_name','full_name')\n",
    "print_info(customers)"
   ]
  },
  {
   "cell_type": "code",
   "execution_count": 16,
   "id": "d9f76adf-90ba-41e8-b91e-ba21493fe576",
   "metadata": {},
   "outputs": [],
   "source": [
    "customers.to_sql(\"customers\", connection, if_exists = \"replace\")"
   ]
  },
  {
   "cell_type": "markdown",
   "id": "db4fd155-0371-478a-8a96-72354ea94d14",
   "metadata": {},
   "source": [
    "# savings_acct"
   ]
  },
  {
   "cell_type": "code",
   "execution_count": 17,
   "id": "1a4cfae5-3679-45fe-8ec2-b07aab2192f9",
   "metadata": {},
   "outputs": [
    {
     "name": "stdout",
     "output_type": "stream",
     "text": [
      "============================================\n",
      "Missing Values\n",
      "cust_id               0\n",
      "acct_nbr              0\n",
      "minimum_balance       0\n",
      "acct_type             0\n",
      "account_active        0\n",
      "acct_start_date       0\n",
      "acct_end_date       375\n",
      "starting_balance      0\n",
      "ending_balance        0\n",
      "dtype: int64\n",
      "============================================\n",
      "Describe\n",
      "            cust_id      acct_nbr  minimum_balance  starting_balance  \\\n",
      "count  4.210000e+02  4.210000e+02       421.000000        421.000000   \n",
      "mean   1.362987e+06  1.362988e+07       194.061758        874.060950   \n",
      "std    2.951807e+02  2.951807e+03       169.839941       1704.224338   \n",
      "min    1.362480e+06  1.362480e+07       100.000000        100.240000   \n",
      "25%    1.362722e+06  1.362722e+07       100.000000        180.220000   \n",
      "50%    1.362980e+06  1.362980e+07       100.000000        310.620000   \n",
      "75%    1.363253e+06  1.363253e+07       100.000000        742.280000   \n",
      "max    1.363495e+06  1.363495e+07       500.000000      17303.420000   \n",
      "\n",
      "       ending_balance  \n",
      "count      421.000000  \n",
      "mean      1258.060736  \n",
      "std       2054.680311  \n",
      "min          2.740000  \n",
      "25%        254.020000  \n",
      "50%        619.050000  \n",
      "75%       1535.830000  \n",
      "max      22432.780000  \n",
      "============================================\n",
      "Shape\n",
      "(421, 9)\n",
      "   cust_id  acct_nbr  minimum_balance acct_type account_active  \\\n",
      "0  1363160  13631603              100      BS               Y    \n",
      "1  1362487  13624873              500      MM               N    \n",
      "2  1362548  13625483              100      BS               Y    \n",
      "3  1362752  13627523              100      BS               Y    \n",
      "4  1363017  13630173              100      BS               N    \n",
      "\n",
      "  acct_start_date acct_end_date  starting_balance  ending_balance  \n",
      "0        9.5.1988           NaN            113.04          122.54  \n",
      "1       27.6.1994     25.8.1995            651.73           12.89  \n",
      "2      11.11.1986           NaN            250.24          254.02  \n",
      "3       20.2.1995           NaN            600.26          609.33  \n",
      "4       27.4.1994    31.10.1995           2011.02         2901.35  \n"
     ]
    }
   ],
   "source": [
    "savings_acct = pd.read_csv(\"twm_savings_acct.csv\", sep = \";\")\n",
    "print_info(savings_acct)"
   ]
  },
  {
   "cell_type": "code",
   "execution_count": 18,
   "id": "ff08f735-9e0a-4717-9878-257682902fe2",
   "metadata": {},
   "outputs": [],
   "source": [
    "savings_acct = convert_date(savings_acct, [\"acct_start_date\",\"acct_end_date\"])\n",
    "savings_acct = difference_maker(savings_acct, \"ending_balance\", \"starting_balance\")\n",
    "savings_acct.to_sql(\"savings_acct\", connection, if_exists = \"replace\")"
   ]
  },
  {
   "cell_type": "markdown",
   "id": "df4e0057-8076-4077-b976-e7403c26d2d1",
   "metadata": {},
   "source": [
    "# saving_tran"
   ]
  },
  {
   "cell_type": "code",
   "execution_count": 19,
   "id": "1f46e16f-dd58-45fc-b75b-f814d5ed26d3",
   "metadata": {},
   "outputs": [
    {
     "name": "stdout",
     "output_type": "stream",
     "text": [
      "============================================\n",
      "Missing Values\n",
      "cust_id          0\n",
      "tran_id          0\n",
      "tran_amt         0\n",
      "principal_amt    0\n",
      "interest_amt     0\n",
      "new_balance      0\n",
      "tran_date        0\n",
      "tran_time        0\n",
      "channel          0\n",
      "tran_code        0\n",
      "dtype: int64\n",
      "============================================\n",
      "Describe\n",
      "            cust_id       tran_id      tran_amt  principal_amt  interest_amt  \\\n",
      "count  1.118900e+04  11189.000000  11189.000000   11189.000000  11189.000000   \n",
      "mean   1.362988e+06     16.113504     14.458362      13.628621      0.829741   \n",
      "std    2.979129e+02     11.024730    221.971173     222.003741      2.856393   \n",
      "min    1.362480e+06      1.000000  -2495.880000   -2495.880000      0.000000   \n",
      "25%    1.362720e+06      7.000000     -0.750000      -0.750000      0.000000   \n",
      "50%    1.362978e+06     14.000000      0.390000       0.000000      0.000000   \n",
      "75%    1.363262e+06     23.000000      7.340000       0.000000      0.480000   \n",
      "max    1.363495e+06     62.000000   4478.610000    4478.610000     44.680000   \n",
      "\n",
      "        new_balance  \n",
      "count  11189.000000  \n",
      "mean    1229.467968  \n",
      "std     2256.670395  \n",
      "min        0.070000  \n",
      "25%      238.480000  \n",
      "50%      562.040000  \n",
      "75%     1247.300000  \n",
      "max    26016.690000  \n",
      "============================================\n",
      "Shape\n",
      "(11189, 10)\n",
      "   cust_id  tran_id  tran_amt  principal_amt  interest_amt  new_balance  \\\n",
      "0  1363481       26    136.03         136.03          0.00      1521.57   \n",
      "1  1362746        1      2.83           0.00          2.83      2265.90   \n",
      "2  1363251       11     13.56           0.00         13.56      5438.90   \n",
      "3  1362542        4      0.76           0.00          0.76       610.92   \n",
      "4  1363387       11    148.69         148.69          0.00       470.05   \n",
      "\n",
      "    tran_date tran_time channel tran_code  \n",
      "0  26.10.1995     84111      A       DP    \n",
      "1   31.1.1995    235959              IN    \n",
      "2   30.4.1995    235959              IN    \n",
      "3   30.4.1995    235959              IN    \n",
      "4   21.5.1995    144736      E       DP    \n"
     ]
    }
   ],
   "source": [
    "saving_tran = pd.read_csv(\"twm_savings_tran.csv\", sep = \";\")\n",
    "print_info(saving_tran)"
   ]
  },
  {
   "cell_type": "code",
   "execution_count": 20,
   "id": "00c9d643-71c9-4f75-85e1-47c8b12735b1",
   "metadata": {},
   "outputs": [],
   "source": [
    "saving_tran = convert_date(saving_tran, [\"tran_date\"])\n",
    "saving_tran.to_sql(\"saving_tran\", connection, if_exists = \"replace\")"
   ]
  },
  {
   "cell_type": "markdown",
   "id": "a8b3769f-399b-40cb-9de0-1de72dd076b4",
   "metadata": {},
   "source": [
    "# transactions"
   ]
  },
  {
   "cell_type": "code",
   "execution_count": 21,
   "id": "1afed95f-70f1-407d-b0a3-4e74a86ada54",
   "metadata": {
    "tags": []
   },
   "outputs": [
    {
     "name": "stdout",
     "output_type": "stream",
     "text": [
      "============================================\n",
      "Missing Values\n",
      "tran_id          0\n",
      "acct_nbr         0\n",
      "tran_amt         0\n",
      "principal_amt    0\n",
      "interest_amt     0\n",
      "new_balance      0\n",
      "tran_date        0\n",
      "tran_time        0\n",
      "channel          0\n",
      "tran_code        0\n",
      "dtype: int64\n",
      "============================================\n",
      "Describe\n",
      "            tran_id      acct_nbr      tran_amt  principal_amt  interest_amt  \\\n",
      "count  77580.000000  7.758000e+04  77580.000000   77580.000000  77580.000000   \n",
      "mean      38.228332  1.185674e+15     -7.748275      -8.509662      0.762784   \n",
      "std       27.838521  2.000564e+15    312.684674     311.006502      4.427059   \n",
      "min        1.000000  1.362480e+07  -3312.410000   -3312.410000      0.000000   \n",
      "25%       15.000000  1.362824e+07   -100.000000    -100.000000      0.000000   \n",
      "50%       32.000000  1.363199e+07     -1.815000      -1.815000      0.000000   \n",
      "75%       59.000000  4.561143e+15      0.170000       0.000000      0.000000   \n",
      "max      155.000000  4.561143e+15  17464.520000   17300.000000    164.520000   \n",
      "\n",
      "        new_balance      tran_time  \n",
      "count  77580.000000   77580.000000  \n",
      "mean     571.571177  104277.077984  \n",
      "std     2158.948572   87527.030938  \n",
      "min   -17300.000000       0.000000  \n",
      "25%        0.000000       0.000000  \n",
      "50%      180.400000  110626.000000  \n",
      "75%      957.252500  184245.250000  \n",
      "max    29868.390000  235959.000000  \n",
      "============================================\n",
      "Shape\n",
      "(77580, 10)\n",
      "   tran_id  acct_nbr  tran_amt  principal_amt  interest_amt  new_balance  \\\n",
      "0       27  13625623      0.00           0.00           0.0      3753.34   \n",
      "1       97  13628392      0.00           0.00           0.0       254.49   \n",
      "2       21  13630842    -97.57         -97.57           0.0      3819.56   \n",
      "3       44  13631412     -0.15          -0.15           0.0       224.05   \n",
      "4       31  13625722      0.00           0.00           0.0       240.55   \n",
      "\n",
      "    tran_date  tran_time channel tran_code  \n",
      "0  21.10.1995     121656      A       IQ    \n",
      "1    5.2.1995     153053      V       IQ    \n",
      "2   23.7.1995          0      P       WD    \n",
      "3   30.1.1995          0              FK    \n",
      "4   25.1.1995     204521      B       IQ    \n"
     ]
    }
   ],
   "source": [
    "transactions = pd.read_csv(\"twm_transactions.csv\", sep = \";\")\n",
    "print_info(transactions)"
   ]
  },
  {
   "cell_type": "code",
   "execution_count": 22,
   "id": "40d2aaac-9322-49c0-984d-78ecf24b028f",
   "metadata": {},
   "outputs": [],
   "source": [
    "transactions = convert_date(transactions, [\"tran_date\"])\n",
    "transactions.to_sql(\"transactions\", connection, if_exists = \"replace\")"
   ]
  },
  {
   "cell_type": "code",
   "execution_count": null,
   "id": "ef36338b-2792-4bf0-8293-ae8687fa6958",
   "metadata": {},
   "outputs": [],
   "source": []
  }
 ],
 "metadata": {
  "kernelspec": {
   "display_name": "Python 3",
   "language": "python",
   "name": "python3"
  },
  "language_info": {
   "codemirror_mode": {
    "name": "ipython",
    "version": 3
   },
   "file_extension": ".py",
   "mimetype": "text/x-python",
   "name": "python",
   "nbconvert_exporter": "python",
   "pygments_lexer": "ipython3",
   "version": "3.8.8"
  }
 },
 "nbformat": 4,
 "nbformat_minor": 5
}
